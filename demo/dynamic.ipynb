{
 "cells": [
  {
   "cell_type": "markdown",
   "id": "e759dd4e",
   "metadata": {},
   "source": [
    "# 绘制动态图\n",
    "## 例子1."
   ]
  },
  {
   "cell_type": "code",
   "execution_count": 45,
   "id": "2ecfdb5b",
   "metadata": {},
   "outputs": [],
   "source": [
    "import numpy as np\n",
    "import matplotlib.pyplot as plt\n",
    "import matplotlib.animation as animation\n",
    "# jupyter运行，需要输入下面这个命令\n",
    "%matplotlib qt5\n",
    "\n",
    "N = 20\n",
    "plt.close() # 关闭打开的图形窗口\n",
    "def anni():\n",
    "    fig = plt.figure()\n",
    "    plt.ion() # 打开交互式绘图interactive\n",
    "    for i in range(N):\n",
    "        plt.cla()           # 清除原有图像\n",
    "        plt.xlim(-0.2,20.4) # 设置x轴坐标范围\n",
    "        plt.ylim(-1.2,1.2)  # 设置y轴坐标范围\n",
    "        # 每当i增加的时候，增加自变量x的区间长度，可以理解为不断叠加绘图，所以每次循环之前都使用plt.cla()命令清除原有图像\n",
    "        x = np.linspace(0,i+1,1000) \n",
    "        y = np.sin(x)\n",
    "        plt.plot(x,y)\n",
    "        plt.pause(0.1)\n",
    "    # plt.ioff() #关闭交互式绘图\n",
    "    \n",
    "    plt.show()\n",
    "\n",
    "anni()\n"
   ]
  },
  {
   "cell_type": "markdown",
   "id": "299df1a8",
   "metadata": {},
   "source": [
    "## 例子2."
   ]
  },
  {
   "cell_type": "code",
   "execution_count": 46,
   "id": "dc4afcaa",
   "metadata": {},
   "outputs": [],
   "source": [
    "fig, ax = plt.subplots()\n",
    "xdata, ydata = [], []\n",
    "ln, = plt.plot([], [], 'ro',animated=True)\n",
    "\n",
    "def init():\n",
    "    ax.set_xlim(-np.pi,np.pi)\n",
    "    ax.set_ylim(-1, 1)\n",
    "    return ln,\n",
    "\n",
    "def update(frame):\n",
    "    xdata.append(frame)\n",
    "    ydata.append(np.sin(frame))\n",
    "    ln.set_data(xdata, ydata)\n",
    "    return ln,\n",
    "\n",
    "anim = animation.FuncAnimation(fig, update, frames=np.linspace(-np.pi,np.pi, 90),interval=10,\n",
    "                    init_func=init,blit=True)\n",
    "anim.save('test2.gif',writer='pillow')\n",
    "plt.show()\n",
    "\n"
   ]
  },
  {
   "cell_type": "markdown",
   "id": "04a0e18e",
   "metadata": {},
   "source": [
    "## 例子3"
   ]
  },
  {
   "cell_type": "code",
   "execution_count": 47,
   "id": "2df6af79",
   "metadata": {},
   "outputs": [],
   "source": [
    "import numpy as np\n",
    "import matplotlib.pyplot as pl\n",
    "import matplotlib.animation as animation\n",
    "\n",
    "x = np.linspace(0, 10, 100)\n",
    "y = np.sin(x)\n",
    "\n",
    "fig, ax = plt.subplots()\n",
    "line, = ax.plot(x, y, color='k')\n",
    "\n",
    "def update(num, x, y, line):\n",
    "    line.set_data(x[:num], y[:num])\n",
    "    line.axes.axis([0, 10, -1, 1])\n",
    "    return line,\n",
    "\n",
    "ani = animation.FuncAnimation(fig, update, len(x), fargs=[x, y, line],\n",
    "                              interval=25, blit=False)\n",
    "ani.save('test3.gif',writer='pillow')\n",
    "plt.show()\n"
   ]
  }
 ],
 "metadata": {
  "kernelspec": {
   "display_name": "Python 3",
   "language": "python",
   "name": "python3"
  },
  "language_info": {
   "codemirror_mode": {
    "name": "ipython",
    "version": 3
   },
   "file_extension": ".py",
   "mimetype": "text/x-python",
   "name": "python",
   "nbconvert_exporter": "python",
   "pygments_lexer": "ipython3",
   "version": "3.8.8"
  }
 },
 "nbformat": 4,
 "nbformat_minor": 5
}
